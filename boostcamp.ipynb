{
 "cells": [
  {
   "cell_type": "code",
   "execution_count": 19,
   "id": "5789d24c-b41d-499a-a55e-5b44daf56e68",
   "metadata": {},
   "outputs": [],
   "source": [
    "import matplotlib.pyplot as plt\n",
    "import pandas as pd\n",
    "import numpy as np"
   ]
  },
  {
   "cell_type": "code",
   "execution_count": 21,
   "id": "26730429-52c8-414c-a2eb-69cca253ccf3",
   "metadata": {},
   "outputs": [],
   "source": [
    "import matplotlib\n",
    "matplotlib.rcParams['font.family'] = 'AppleGothic' # Mac\n",
    "matplotlib.rcParams['font.size'] = 15 #글자 크기\n",
    "matplotlib.rcParams['axes.unicode_minus'] = False #한글 폰트 사용시, 마이너스 글자가 깨지는 현상을 해결"
   ]
  },
  {
   "cell_type": "code",
   "execution_count": 23,
   "id": "b6b3c138-3000-483b-995b-7965801e0f18",
   "metadata": {},
   "outputs": [
    {
     "data": {
      "text/plain": [
       "<BarContainer object of 3 artists>"
      ]
     },
     "execution_count": 23,
     "metadata": {},
     "output_type": "execute_result"
    },
    {
     "data": {
      "image/png": "[encoded data removed]",
      "text/plain": [
       "<Figure size 640x480 with 1 Axes>"
      ]
     },
     "metadata": {},
     "output_type": "display_data"
    }
   ],
   "source": [
    "labels = ['국어', '수학', '과학']\n",
    "values = [80, 100, 75]\n",
    "plt.bar(labels, values, color = '#79e5cb')"
   ]
  },
  {
   "cell_type": "code",
   "execution_count": 25,
   "id": "7eee49f2-5f65-44e5-bc77-02ac568fefea",
   "metadata": {},
   "outputs": [
    {
     "name": "stdout",
     "output_type": "stream",
     "text": [
      "Requirement already satisfied: pygame in /opt/anaconda3/lib/python3.12/site-packages (2.6.1)\n",
      "Note: you may need to restart the kernel to use updated packages.\n"
     ]
    }
   ],
   "source": [
    "pip install pygame"
   ]
  },
  {
   "cell_type": "code",
   "execution_count": 26,
   "id": "57227550-1ca4-4572-a412-15704203999a",
   "metadata": {},
   "outputs": [],
   "source": [
    "# import pygame\n",
    "# import sys\n",
    "\n",
    "# pygame.init()\n",
    "\n",
    "# screen = pygame.display.set_mode((400, 300))\n",
    "# pygame.display.set_caption(\"My First Pygame\")\n",
    "\n",
    "# clock = pygame.time.Clock()\n",
    "\n",
    "# x, y = 100, 100\n",
    "# speed = 5\n",
    "\n",
    "# running = True\n",
    "# while running:\n",
    "#     screen.fill((0, 0, 0))  # 배경 검정\n",
    "#     pygame.draw.rect(screen, (0, 255, 0), (x, y, 50, 50))  # 초록색 네모\n",
    "\n",
    "#     for event in pygame.event.get():\n",
    "#         if event.type == pygame.QUIT:\n",
    "#             running = False\n",
    "\n",
    "#     keys = pygame.key.get_pressed()\n",
    "#     if keys[pygame.K_LEFT]:\n",
    "#         x -= speed\n",
    "#     if keys[pygame.K_RIGHT]:\n",
    "#         x += speed\n",
    "#     if keys[pygame.K_UP]:\n",
    "#         y -= speed\n",
    "#     if keys[pygame.K_DOWN]:\n",
    "#         y += speed\n",
    "\n",
    "#     pygame.display.flip()\n",
    "#     clock.tick(60)\n",
    "\n",
    "# pygame.quit()\n",
    "# sys.exit()\n"
   ]
  },
  {
   "cell_type": "code",
   "execution_count": 29,
   "id": "25e4f2f7-c6cd-44c1-9527-0a3067b6a579",
   "metadata": {},
   "outputs": [],
   "source": [
    "# import pygame\n",
    "# import sys\n",
    "# import random\n",
    "\n",
    "# pygame.init()\n",
    "\n",
    "# # 화면 설정\n",
    "# WIDTH, HEIGHT = 400, 300\n",
    "# screen = pygame.display.set_mode((WIDTH, HEIGHT))\n",
    "# pygame.display.set_caption(\"pyGame\")\n",
    "\n",
    "# clock = pygame.time.Clock()\n",
    "\n",
    "# # 폰트\n",
    "# font = pygame.font.SysFont(None, 24)\n",
    "# big_font = pygame.font.SysFont(None, 48)\n",
    "\n",
    "# # 플레이어 설정\n",
    "# player_x, player_y = 175, 250\n",
    "# player_speed = 5\n",
    "# player_size = 50\n",
    "\n",
    "# # 총알 설정\n",
    "# bullet_speed = 7\n",
    "# bullets = []\n",
    "\n",
    "# # 적 설정\n",
    "# enemy_size = 30\n",
    "# enemy_speed = 3\n",
    "# enemies = []\n",
    "\n",
    "# # 점수\n",
    "# score = 0\n",
    "\n",
    "# # 시간 제한 설정\n",
    "# limit_time = 30  # 초\n",
    "# start_ticks = pygame.time.get_ticks()\n",
    "\n",
    "# # 종료 버튼\n",
    "# exit_button_rect = pygame.Rect(WIDTH - 90, HEIGHT - 40, 80, 30)\n",
    "\n",
    "# # 적 생성 함수\n",
    "# def spawn_enemy():\n",
    "#     x = random.randint(0, WIDTH - enemy_size)\n",
    "#     y = -enemy_size\n",
    "#     enemies.append([x, y])\n",
    "\n",
    "# # 게임 루프\n",
    "# running = True\n",
    "# enemy_timer = 0\n",
    "# game_over = False\n",
    "# while running:\n",
    "#     screen.fill((0, 0, 0))\n",
    "\n",
    "#     # 시간 계산\n",
    "#     elapsed_time = (pygame.time.get_ticks() - start_ticks) / 1000\n",
    "#     remaining_time = max(0, int(limit_time - elapsed_time))\n",
    "\n",
    "#     # 게임 종료 조건 확인\n",
    "#     if remaining_time <= 0 and not game_over:\n",
    "#         game_over = True\n",
    "#         end_time = pygame.time.get_ticks()\n",
    "\n",
    "#     # 플레이어 그리기\n",
    "#     if not game_over:\n",
    "#         pygame.draw.rect(screen, (0, 255, 0), (player_x, player_y, player_size, player_size))\n",
    "\n",
    "#     # 총알 이동 및 그리기\n",
    "#     for bullet in bullets[:]:\n",
    "#         bullet[1] -= bullet_speed\n",
    "#         pygame.draw.rect(screen, (255, 255, 0), (bullet[0], bullet[1], 4, 10))\n",
    "#         if bullet[1] < 0:\n",
    "#             bullets.remove(bullet)\n",
    "\n",
    "#     # 적 생성 및 이동\n",
    "#     if not game_over:\n",
    "#         enemy_timer += 1\n",
    "#         if enemy_timer > 40:\n",
    "#             spawn_enemy()\n",
    "#             enemy_timer = 0\n",
    "\n",
    "#         for enemy in enemies[:]:\n",
    "#             enemy[1] += enemy_speed\n",
    "#             pygame.draw.rect(screen, (255, 0, 0), (enemy[0], enemy[1], enemy_size, enemy_size))\n",
    "#             if enemy[1] > HEIGHT:\n",
    "#                 enemies.remove(enemy)\n",
    "\n",
    "#     # 충돌 처리\n",
    "#     for bullet in bullets[:]:\n",
    "#         bullet_rect = pygame.Rect(bullet[0], bullet[1], 4, 10)\n",
    "#         for enemy in enemies[:]:\n",
    "#             enemy_rect = pygame.Rect(enemy[0], enemy[1], enemy_size, enemy_size)\n",
    "#             if bullet_rect.colliderect(enemy_rect):\n",
    "#                 bullets.remove(bullet)\n",
    "#                 enemies.remove(enemy)\n",
    "#                 score += 1\n",
    "#                 break\n",
    "\n",
    "#     # 종료 버튼\n",
    "#     pygame.draw.rect(screen, (255, 0, 0), exit_button_rect)\n",
    "#     exit_text = font.render(\"exit\", True, (255, 255, 255))\n",
    "#     screen.blit(exit_text, (WIDTH - 70, HEIGHT - 33))\n",
    "\n",
    "#     # 점수 & 남은 시간 표시\n",
    "#     score_text = font.render(f\"score: {score}\", True, (255, 255, 255))\n",
    "#     time_text = font.render(f\"time: {remaining_time}s\", True, (255, 255, 255))\n",
    "#     screen.blit(score_text, (10, 10))\n",
    "#     screen.blit(time_text, (10, 30))\n",
    "\n",
    "#     # 시간 종료 메시지 표시\n",
    "#     if game_over:\n",
    "#         over_text = big_font.render(\"Game over!\", True, (255, 255, 255))\n",
    "#         screen.blit(over_text, (WIDTH//2 - 100, HEIGHT//2 - 30))\n",
    "#         if pygame.time.get_ticks() - end_time > 3000:\n",
    "#             running = False\n",
    "\n",
    "#     # 이벤트 처리\n",
    "#     for event in pygame.event.get():\n",
    "#         if event.type == pygame.QUIT:\n",
    "#             running = False\n",
    "\n",
    "#         if not game_over:\n",
    "#             if event.type == pygame.KEYDOWN and event.key == pygame.K_SPACE:\n",
    "#                 bullet_x = player_x + player_size // 2 - 2\n",
    "#                 bullet_y = player_y\n",
    "#                 bullets.append([bullet_x, bullet_y])\n",
    "\n",
    "#         if event.type == pygame.MOUSEBUTTONDOWN:\n",
    "#             if exit_button_rect.collidepoint(event.pos):\n",
    "#                 running = False\n",
    "\n",
    "#     # 키 입력 처리\n",
    "#     keys = pygame.key.get_pressed()\n",
    "#     if not game_over:\n",
    "#         if keys[pygame.K_LEFT] and player_x > 0:\n",
    "#             player_x -= player_speed\n",
    "#         if keys[pygame.K_RIGHT] and player_x < WIDTH - player_size:\n",
    "#             player_x += player_speed\n",
    "#         if keys[pygame.K_UP] and player_y > 0:\n",
    "#             player_y -= player_speed\n",
    "#         if keys[pygame.K_DOWN] and player_y < HEIGHT - player_size:\n",
    "#             player_y += player_speed\n",
    "\n",
    "#     pygame.display.flip()\n",
    "#     clock.tick(60)\n",
    "\n",
    "# pygame.quit()\n",
    "# sys.exit()"
   ]
  },
  {
   "cell_type": "code",
   "execution_count": 31,
   "id": "38e4eb5f-f51a-4428-a9c5-ba74d4ff797b",
   "metadata": {},
   "outputs": [
    {
     "name": "stdout",
     "output_type": "stream",
     "text": [
      "Reinitialized existing Git repository in /Users/chxe_01/Python/.git/\n"
     ]
    }
   ],
   "source": [
    "!git init"
   ]
  },
  {
   "cell_type": "code",
   "execution_count": null,
   "id": "6cb5683d-1040-435d-9b87-147a47271475",
   "metadata": {},
   "outputs": [],
   "source": []
  }
 ],
 "metadata": {
  "kernelspec": {
   "display_name": "Python [conda env:base] *",
   "language": "python",
   "name": "conda-base-py"
  },
  "language_info": {
   "codemirror_mode": {
    "name": "ipython",
    "version": 3
   },
   "file_extension": ".py",
   "mimetype": "text/x-python",
   "name": "python",
   "nbconvert_exporter": "python",
   "pygments_lexer": "ipython3",
   "version": "3.12.7"
  }
 },
 "nbformat": 4,
 "nbformat_minor": 5
}
